{
 "cells": [
  {
   "cell_type": "code",
   "execution_count": 28,
   "metadata": {},
   "outputs": [
    {
     "name": "stdout",
     "output_type": "stream",
     "text": [
      "happy halloween!\n"
     ]
    }
   ],
   "source": [
    "string = \"hdxargpocpivyte ashdfafdlhnlteoqxwymecbeybnzy!\"\n",
    "hidden_message = string[0:46:3]\n",
    "print(hidden_message)"
   ]
  },
  {
   "cell_type": "code",
   "execution_count": null,
   "metadata": {},
   "outputs": [],
   "source": []
  }
 ],
 "metadata": {
  "kernelspec": {
   "display_name": "Python 3.9.12 ('base')",
   "language": "python",
   "name": "python3"
  },
  "language_info": {
   "codemirror_mode": {
    "name": "ipython",
    "version": 3
   },
   "file_extension": ".py",
   "mimetype": "text/x-python",
   "name": "python",
   "nbconvert_exporter": "python",
   "pygments_lexer": "ipython3",
   "version": "3.9.12"
  },
  "orig_nbformat": 4,
  "vscode": {
   "interpreter": {
    "hash": "7e1c0a78f9e2ce3d494953e72b1956620e7944e8eb3c53fd65bf217c31d25e61"
   }
  }
 },
 "nbformat": 4,
 "nbformat_minor": 2
}
