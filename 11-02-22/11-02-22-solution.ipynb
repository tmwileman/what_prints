{
 "cells": [
  {
   "cell_type": "code",
   "execution_count": 1,
   "metadata": {},
   "outputs": [],
   "source": [
    "from abc import ABC, abstractmethod\n",
    "\n",
    "# Shape is a class that represents a geometric shape. It has an abstract method called area that returns the area of the shape.\n",
    "class Shape(ABC):\n",
    "   def get_area(self) -> int:\n",
    "       return self.area()\n",
    "   \n",
    "   @abstractmethod\n",
    "   def area(self):\n",
    "      pass"
   ]
  },
  {
   "cell_type": "code",
   "execution_count": 2,
   "metadata": {},
   "outputs": [],
   "source": [
    "# Rectangle is a class that represents a rectangle. It inherits from Shape and implements the area method.\n",
    "class Rectangle(Shape):\n",
    "   def __init__(self, x,y):\n",
    "      self.l = x\n",
    "      self.b=y\n",
    "      \n",
    "   def area(self):\n",
    "      return self.l*self.b\n",
    "   \n",
    "# Similar to Rectangle, Triangle inherits from Shape and implements the area method.\n",
    "class Triangle(Shape):\n",
    "   def __init__(self, x,y):\n",
    "      self.l = x\n",
    "      self.b=y\n",
    "      \n",
    "   def area(self):\n",
    "      return 0.5*(self.l*self.b)"
   ]
  },
  {
   "cell_type": "code",
   "execution_count": 3,
   "metadata": {},
   "outputs": [],
   "source": [
    "# Instantiate a Triangle object with base 10 and height 10. \n",
    "my_shape = Triangle(10,10)"
   ]
  },
  {
   "cell_type": "code",
   "execution_count": 4,
   "metadata": {},
   "outputs": [
    {
     "name": "stdout",
     "output_type": "stream",
     "text": [
      "50.0\n"
     ]
    }
   ],
   "source": [
    "# Call the get_area method and print the result.\n",
    "print(my_shape.get_area())"
   ]
  },
  {
   "cell_type": "code",
   "execution_count": null,
   "metadata": {},
   "outputs": [],
   "source": []
  }
 ],
 "metadata": {
  "kernelspec": {
   "display_name": "Python 3.9.12 ('base')",
   "language": "python",
   "name": "python3"
  },
  "language_info": {
   "codemirror_mode": {
    "name": "ipython",
    "version": 3
   },
   "file_extension": ".py",
   "mimetype": "text/x-python",
   "name": "python",
   "nbconvert_exporter": "python",
   "pygments_lexer": "ipython3",
   "version": "3.9.12"
  },
  "orig_nbformat": 4,
  "vscode": {
   "interpreter": {
    "hash": "7e1c0a78f9e2ce3d494953e72b1956620e7944e8eb3c53fd65bf217c31d25e61"
   }
  }
 },
 "nbformat": 4,
 "nbformat_minor": 2
}
