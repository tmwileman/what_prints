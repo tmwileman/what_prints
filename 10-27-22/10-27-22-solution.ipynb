{
 "cells": [
  {
   "cell_type": "code",
   "execution_count": 1,
   "metadata": {},
   "outputs": [],
   "source": [
    "# Instantiate a string object\n",
    "str = \"learn python\""
   ]
  },
  {
   "cell_type": "code",
   "execution_count": 2,
   "metadata": {},
   "outputs": [],
   "source": [
    "# Capitalize the first letter of the string\n",
    "# \"learn python\" -> \"Learn python\"\n",
    "a = str.capitalize()"
   ]
  },
  {
   "cell_type": "code",
   "execution_count": 3,
   "metadata": {},
   "outputs": [],
   "source": [
    "# Convert the first letter of each word to uppercase\n",
    "# \"Learn python\" -> \"Learn Python\"\n",
    "b = str.title()"
   ]
  },
  {
   "cell_type": "code",
   "execution_count": 4,
   "metadata": {},
   "outputs": [
    {
     "name": "stdout",
     "output_type": "stream",
     "text": [
      "pP\n"
     ]
    }
   ],
   "source": [
    "# Print the sixth element of string\n",
    "print(a[6] + b[6])"
   ]
  },
  {
   "cell_type": "code",
   "execution_count": null,
   "metadata": {},
   "outputs": [],
   "source": []
  }
 ],
 "metadata": {
  "kernelspec": {
   "display_name": "Python 3.9.12 ('base')",
   "language": "python",
   "name": "python3"
  },
  "language_info": {
   "codemirror_mode": {
    "name": "ipython",
    "version": 3
   },
   "file_extension": ".py",
   "mimetype": "text/x-python",
   "name": "python",
   "nbconvert_exporter": "python",
   "pygments_lexer": "ipython3",
   "version": "3.9.12"
  },
  "orig_nbformat": 4,
  "vscode": {
   "interpreter": {
    "hash": "7e1c0a78f9e2ce3d494953e72b1956620e7944e8eb3c53fd65bf217c31d25e61"
   }
  }
 },
 "nbformat": 4,
 "nbformat_minor": 2
}
