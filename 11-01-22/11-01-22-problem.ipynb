{
 "cells": [
  {
   "cell_type": "code",
   "execution_count": 1,
   "metadata": {},
   "outputs": [
    {
     "name": "stdout",
     "output_type": "stream",
     "text": [
      "[('ferrari', 'sainz', 'leclerc'), ('haas', 'schumacher', 'magnussen'), ('mclaren', 'norris', 'ricciardo'), ('', '')]\n"
     ]
    }
   ],
   "source": [
    "example = [(), \n",
    "           ('ferrari','sainz','leclerc'), \n",
    "           (), \n",
    "           ('haas', 'schumacher', 'magnussen'),\n",
    "           ('mclaren', 'norris', 'ricciardo'), \n",
    "           ('',''),\n",
    "           ()]\n",
    "\n",
    "modified_example = [t for t in example if t]\n",
    "\n",
    "print(modified_example)"
   ]
  }
 ],
 "metadata": {
  "kernelspec": {
   "display_name": "Python 3.9.12 ('base')",
   "language": "python",
   "name": "python3"
  },
  "language_info": {
   "codemirror_mode": {
    "name": "ipython",
    "version": 3
   },
   "file_extension": ".py",
   "mimetype": "text/x-python",
   "name": "python",
   "nbconvert_exporter": "python",
   "pygments_lexer": "ipython3",
   "version": "3.9.12"
  },
  "orig_nbformat": 4,
  "vscode": {
   "interpreter": {
    "hash": "7e1c0a78f9e2ce3d494953e72b1956620e7944e8eb3c53fd65bf217c31d25e61"
   }
  }
 },
 "nbformat": 4,
 "nbformat_minor": 2
}
