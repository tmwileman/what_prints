{
 "cells": [
  {
   "cell_type": "code",
   "execution_count": 1,
   "metadata": {},
   "outputs": [],
   "source": [
    "# Instantiate a list of tuples\n",
    "example = [(), \n",
    "           ('ferrari','sainz','leclerc'), \n",
    "           (), \n",
    "           ('haas', 'schumacher', 'magnussen'),\n",
    "           ('mclaren', 'norris', 'ricciardo'), \n",
    "           ('',''),\n",
    "           ()]"
   ]
  },
  {
   "cell_type": "code",
   "execution_count": 2,
   "metadata": {},
   "outputs": [],
   "source": [
    "# Use a list comprehension to filter empty tuples\n",
    "# This is made possible because empty tuples are evaluated as false\n",
    "# The list comprehension iteratively selects each element in out list, evaluates it as true or flase based on whether or not the tuple is empty, and then returns a new list of non-empty tuples.\n",
    "modified_example = [t for t in example if t]"
   ]
  },
  {
   "cell_type": "code",
   "execution_count": 3,
   "metadata": {},
   "outputs": [
    {
     "name": "stdout",
     "output_type": "stream",
     "text": [
      "[('ferrari', 'sainz', 'leclerc'), ('haas', 'schumacher', 'magnussen'), ('mclaren', 'norris', 'ricciardo'), ('', '')]\n"
     ]
    }
   ],
   "source": [
    "print(modified_example)"
   ]
  },
  {
   "cell_type": "code",
   "execution_count": null,
   "metadata": {},
   "outputs": [],
   "source": []
  }
 ],
 "metadata": {
  "kernelspec": {
   "display_name": "Python 3.9.12 ('base')",
   "language": "python",
   "name": "python3"
  },
  "language_info": {
   "codemirror_mode": {
    "name": "ipython",
    "version": 3
   },
   "file_extension": ".py",
   "mimetype": "text/x-python",
   "name": "python",
   "nbconvert_exporter": "python",
   "pygments_lexer": "ipython3",
   "version": "3.9.12"
  },
  "orig_nbformat": 4,
  "vscode": {
   "interpreter": {
    "hash": "7e1c0a78f9e2ce3d494953e72b1956620e7944e8eb3c53fd65bf217c31d25e61"
   }
  }
 },
 "nbformat": 4,
 "nbformat_minor": 2
}
