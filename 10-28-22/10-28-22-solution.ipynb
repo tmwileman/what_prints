{
 "cells": [
  {
   "cell_type": "code",
   "execution_count": 1,
   "metadata": {},
   "outputs": [],
   "source": [
    "import time"
   ]
  },
  {
   "cell_type": "code",
   "execution_count": 2,
   "metadata": {},
   "outputs": [],
   "source": [
    "# Instantiate an int object\n",
    "num = 102822"
   ]
  },
  {
   "cell_type": "code",
   "execution_count": 3,
   "metadata": {},
   "outputs": [],
   "source": [
    "# Instantiate another int object equal to 0\n",
    "new_num = 0"
   ]
  },
  {
   "cell_type": "code",
   "execution_count": 4,
   "metadata": {},
   "outputs": [
    {
     "name": "stdout",
     "output_type": "stream",
     "text": [
      "0 102822\n",
      "2 10282\n",
      "22 1028\n",
      "228 102\n",
      "2282 10\n",
      "22820 1\n",
      "228201 0\n"
     ]
    }
   ],
   "source": [
    "# While num is not equal to 0 do two things:\n",
    "# 1. Multiply new_num by 10 and add the remainder of num divided by 10\n",
    "     # Adding the remainder of num divided by 10 is made possible by %. Acting as a modulo operator, % returns the remainder of a division operation. In this case, the remainder of num divided by 10.\n",
    "# 2. Divide num by 10 and round down to the nearest integer. \n",
    "     # // is the floor division operator. It returns the quotient of a division operation rounded down to the nearest integer.\n",
    "print(new_num, num)\n",
    "while num!=0:\n",
    "    new_num = new_num*10 + num%10\n",
    "    num = (num//10)\n",
    "    time.sleep(1)\n",
    "    print(new_num, num)"
   ]
  },
  {
   "cell_type": "code",
   "execution_count": null,
   "metadata": {},
   "outputs": [],
   "source": []
  }
 ],
 "metadata": {
  "kernelspec": {
   "display_name": "Python 3.9.12 ('base')",
   "language": "python",
   "name": "python3"
  },
  "language_info": {
   "codemirror_mode": {
    "name": "ipython",
    "version": 3
   },
   "file_extension": ".py",
   "mimetype": "text/x-python",
   "name": "python",
   "nbconvert_exporter": "python",
   "pygments_lexer": "ipython3",
   "version": "3.9.12"
  },
  "orig_nbformat": 4,
  "vscode": {
   "interpreter": {
    "hash": "7e1c0a78f9e2ce3d494953e72b1956620e7944e8eb3c53fd65bf217c31d25e61"
   }
  }
 },
 "nbformat": 4,
 "nbformat_minor": 2
}
