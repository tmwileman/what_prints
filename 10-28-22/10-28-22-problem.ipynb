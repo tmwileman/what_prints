{
 "cells": [
  {
   "cell_type": "code",
   "execution_count": 2,
   "metadata": {},
   "outputs": [
    {
     "name": "stdout",
     "output_type": "stream",
     "text": [
      "228201\n"
     ]
    }
   ],
   "source": [
    "num = 102822\n",
    "new_num = 0\n",
    "while num!=0:\n",
    "    new_num = new_num*10 + num%10       \n",
    "    num = (num//10)\n",
    "print(new_num) "
   ]
  }
 ],
 "metadata": {
  "kernelspec": {
   "display_name": "Python 3.9.12 ('base')",
   "language": "python",
   "name": "python3"
  },
  "language_info": {
   "codemirror_mode": {
    "name": "ipython",
    "version": 3
   },
   "file_extension": ".py",
   "mimetype": "text/x-python",
   "name": "python",
   "nbconvert_exporter": "python",
   "pygments_lexer": "ipython3",
   "version": "3.9.12"
  },
  "orig_nbformat": 4,
  "vscode": {
   "interpreter": {
    "hash": "7e1c0a78f9e2ce3d494953e72b1956620e7944e8eb3c53fd65bf217c31d25e61"
   }
  }
 },
 "nbformat": 4,
 "nbformat_minor": 2
}
